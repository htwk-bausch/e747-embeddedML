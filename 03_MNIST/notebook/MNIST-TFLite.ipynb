{
 "cells": [
  {
   "cell_type": "markdown",
   "id": "1ffe8d4c-5801-4511-97ea-29750396036b",
   "metadata": {},
   "source": [
    "# Keras und MNIST"
   ]
  },
  {
   "cell_type": "code",
   "execution_count": null,
   "id": "39ef1737-9064-4315-ac2e-4924a2fc0126",
   "metadata": {},
   "outputs": [],
   "source": [
    "import numpy as np\n",
    "import matplotlib.pyplot as plt\n",
    "import tensorflow as tf\n",
    "import random\n",
    "\n",
    "%matplotlib inline\n",
    "%config InlineBackend.figure_format = 'retina'"
   ]
  },
  {
   "cell_type": "code",
   "execution_count": null,
   "id": "52492c24-b007-45bf-9adc-aff31a85f7ed",
   "metadata": {},
   "outputs": [],
   "source": [
    "!python --version\n",
    "print(\"NumPy: \" + np.__version__)\n",
    "print(\"Keras: \" + tf.keras.__version__)\n",
    "print(\"TensorFlow: \" + tf.__version__)\n",
    "\n",
    "# Hardwareunterstützung?\n",
    "tf.config.list_physical_devices()"
   ]
  },
  {
   "cell_type": "markdown",
   "id": "5d83ba60-5057-4cbd-a75f-98944b744d45",
   "metadata": {},
   "source": [
    "### Datensatz importieren"
   ]
  },
  {
   "cell_type": "code",
   "execution_count": null,
   "id": "8a853597-6e8d-4556-818f-3aedb2ed182f",
   "metadata": {},
   "outputs": [],
   "source": [
    "(train_images, train_labels), (test_images, test_labels) = tf.keras.datasets.mnist.load_data()"
   ]
  },
  {
   "cell_type": "code",
   "execution_count": null,
   "id": "e8008611-512a-41bc-84b6-788e52f528ea",
   "metadata": {},
   "outputs": [],
   "source": [
    "# Daten anzeigen\n",
    "# Anzeige der Größe/Dimensionen der Variablen\n",
    "\n",
    "print(\"train_images shape\", train_images.shape)\n",
    "print(\"train_labels shape\", train_labels.shape)\n",
    "print(\"test_images shape\", test_images.shape)\n",
    "print(\"test_labels shape\", test_labels.shape)"
   ]
  },
  {
   "cell_type": "code",
   "execution_count": null,
   "id": "46db46da-8dcf-4969-915f-2eda689adaac",
   "metadata": {},
   "outputs": [],
   "source": [
    "# Zufällige Auswahl an Bildern aus dem Trainingsdatensatz anzeigen\n",
    "\n",
    "plt.rcParams['figure.figsize'] = (16,7)\n",
    "\n",
    "for i in range(18):\n",
    "    plt.subplot(3,6,i+1)\n",
    "    num = random.randint(0, len(train_images))\n",
    "    plt.imshow(train_images[num], cmap='gray', interpolation='none')\n",
    "    plt.title(\"Label: {}\".format(train_labels[num]))\n",
    "plt.tight_layout()"
   ]
  },
  {
   "cell_type": "markdown",
   "id": "72de3d00-7c15-4b43-a24d-f0ff466c9320",
   "metadata": {},
   "source": [
    "#### Serialisieren"
   ]
  },
  {
   "cell_type": "code",
   "execution_count": null,
   "id": "e37f3647-baae-459e-bcf4-a789aa250746",
   "metadata": {},
   "outputs": [],
   "source": [
    "# Umformen des Trainings- und Testdatensatzes\n",
    "# 28x28 Pixel => Vektor mit 784 Pixeln\n",
    "train_images = train_images.reshape(60000, 784)\n",
    "test_images  = test_images.reshape(10000, 784)"
   ]
  },
  {
   "cell_type": "markdown",
   "id": "959c6053-00d2-4f90-ad4b-eb629fee49b1",
   "metadata": {},
   "source": [
    "#### Normalisieren"
   ]
  },
  {
   "cell_type": "code",
   "execution_count": null,
   "id": "3214927d-ae92-4c37-8327-45e6a1d242df",
   "metadata": {},
   "outputs": [],
   "source": [
    "# Konvertierung Integer => 32-Bit Fließkommawert\n",
    "train_images = train_images.astype('float32')\n",
    "test_images  = test_images.astype('float32')\n",
    "\n",
    "# Normalisieren der Werte\n",
    "# Jedes Pixel besitzt einen Wert zwischen 0...1\n",
    "train_images = train_images / 255\n",
    "test_images  = test_images / 255\n",
    "\n",
    "print(\"Trainingsdaten:\", train_images.shape)\n",
    "print(\"Testdaten:\", test_images.shape)"
   ]
  },
  {
   "cell_type": "markdown",
   "id": "fe843672-6be9-4fe6-97d0-ef521ead8a47",
   "metadata": {},
   "source": [
    "#### Ausgangswerte ins 1-Hot-Format umformen\n",
    "\n",
    "Umformen der Klassen (eindeutige Ziffern) ins One-Hot-Format:\n",
    "\n",
    "```\n",
    "0 -> [1, 0, 0, 0, 0, 0, 0, 0, 0]\n",
    "1 -> [0, 1, 0, 0, 0, 0, 0, 0, 0]\n",
    "2 -> [0, 0, 1, 0, 0, 0, 0, 0, 0]\n",
    "...\n",
    "9 -> [0, 0, 0, 0, 0, 0, 0, 0, 1]\n",
    "```"
   ]
  },
  {
   "cell_type": "code",
   "execution_count": null,
   "id": "24e4f977",
   "metadata": {},
   "outputs": [],
   "source": [
    "# Labels original\n",
    "train_labels"
   ]
  },
  {
   "cell_type": "code",
   "execution_count": null,
   "id": "6aefacc1-7f20-439b-a254-b6a2fe11fb9e",
   "metadata": {},
   "outputs": [],
   "source": [
    "nb_classes = 10 # Anzahl an eindeutigen Ziffern\n",
    "\n",
    "train_labels = tf.keras.utils.to_categorical(train_labels, nb_classes)\n",
    "test_labels  = tf.keras.utils.to_categorical(test_labels, nb_classes)"
   ]
  },
  {
   "cell_type": "markdown",
   "id": "bb422c97-d7b6-4838-89fc-d5fd7aafc817",
   "metadata": {},
   "source": [
    "### Entwurf des neuronalen Netzes"
   ]
  },
  {
   "cell_type": "code",
   "execution_count": null,
   "id": "3758658d-fbc0-45ea-a446-c6188e31c51e",
   "metadata": {},
   "outputs": [],
   "source": [
    "model = tf.keras.Sequential()\n",
    "model.add(tf.keras.layers.Input(shape=[784,]))\n",
    "model.add(tf.keras.layers.Dense(128, activation='relu'))\n",
    "model.add(tf.keras.layers.Dense(64, activation='relu'))\n",
    "model.add(tf.keras.layers.Dense(10, activation='softmax'))\n",
    "\n",
    "# Zusammenfassung\n",
    "model.summary()"
   ]
  },
  {
   "cell_type": "code",
   "execution_count": null,
   "id": "192efc67-7b93-4695-9041-85f2e0b42228",
   "metadata": {},
   "outputs": [],
   "source": [
    "# Kompilierung\n",
    "model.compile(loss='categorical_crossentropy', optimizer='adam', metrics=['accuracy'])"
   ]
  },
  {
   "cell_type": "markdown",
   "id": "fa7200ec-6824-4119-afc1-7bb2d864b88d",
   "metadata": {},
   "source": [
    "### Training des neuronalen Netzes"
   ]
  },
  {
   "cell_type": "code",
   "execution_count": null,
   "id": "bffde8e2-d797-43b0-a8c1-4e55c910ab00",
   "metadata": {},
   "outputs": [],
   "source": [
    "model.fit(train_images, train_labels, batch_size=200, epochs=20, verbose=1)"
   ]
  },
  {
   "cell_type": "markdown",
   "id": "fdf71a66-aae5-4000-9b02-cfe551ad6bc0",
   "metadata": {},
   "source": [
    "### Evaluation"
   ]
  },
  {
   "cell_type": "code",
   "execution_count": null,
   "id": "5aa7ae39-786e-4d08-a601-0f2dde171fdc",
   "metadata": {},
   "outputs": [],
   "source": [
    "scores = model.evaluate(test_images, test_labels, verbose=1)\n",
    "print(\"Fehler: %.2f%%\" % (100-scores[1]*100))"
   ]
  },
  {
   "cell_type": "markdown",
   "id": "bd85899d-8e4a-4bb6-9afd-1eca338b8e89",
   "metadata": {},
   "source": [
    "### Vorhersage"
   ]
  },
  {
   "cell_type": "code",
   "execution_count": null,
   "id": "e16ee027-0d48-4351-9cf7-b118def1514f",
   "metadata": {},
   "outputs": [],
   "source": [
    "index = 3   # => Indexwert des Testdatensatzes\n",
    "\n",
    "predict = model.predict(test_images)\n",
    "#print(\"Vorhersage: %d\" % predict[index].argmax())\n",
    "#print(\"Label:      %d\" % test_labels[index].argmax())\n",
    "\n",
    "# Grafische Ausgabe des Ergebnisses\n",
    "plt.imshow(test_images[index].reshape(28,28), cmap=plt.get_cmap('gray'));\n",
    "plt.title(\"Vorhersage: %d, Label: %d\" % (predict[index].argmax(), test_labels[index].argmax()));"
   ]
  },
  {
   "cell_type": "markdown",
   "id": "5594b620-b8b1-4247-ac6a-36f32cda5784",
   "metadata": {},
   "source": [
    "### Performance des Netzes\n",
    "\n",
    "In diesem Abschnitt untersuchen wir, welche Bilder richtig zugeordnet wurden und bei welchen Bildern dies nicht gelingt. Dazu stellt man typischerweise eine sog. Konfusionsmatrix auf. Die Konfusionsmatrix zeigt, welche Klassen erkannt wurden und wie der wahre Wert lautet."
   ]
  },
  {
   "cell_type": "code",
   "execution_count": null,
   "id": "58e11b5d-94c5-423d-bc9e-0708e7023b72",
   "metadata": {},
   "outputs": [],
   "source": [
    "import sklearn\n",
    "import itertools\n",
    "\n",
    "print(\"sklearn: \" + sklearn.__version__)"
   ]
  },
  {
   "cell_type": "code",
   "execution_count": null,
   "id": "5a89c611-5c05-4498-9313-4f8c6b454809",
   "metadata": {},
   "outputs": [],
   "source": [
    "def plot_confusion_matrix(cm, classes,\n",
    "                          normalize=False,\n",
    "                          title='Konfusionsmatrix',\n",
    "                          cmap=plt.cm.Blues):\n",
    "    \"\"\"\n",
    "    This function prints and plots the confusion matrix.\n",
    "    Normalization can be applied by setting `normalize=True`.\n",
    "    \"\"\"\n",
    "    plt.figure(figsize=(6,6))\n",
    "    plt.imshow(cm, interpolation='nearest', cmap=cmap)\n",
    "    plt.title(title)\n",
    "    #plt.colorbar()\n",
    "    tick_marks = np.arange(len(classes))\n",
    "    plt.xticks(tick_marks, classes, rotation=45)\n",
    "    plt.yticks(tick_marks, classes)\n",
    "\n",
    "    if normalize:\n",
    "        cm = cm.astype('float') / cm.sum(axis=1)[:, np.newaxis]\n",
    "\n",
    "    thresh = cm.max() / 2.\n",
    "    for i, j in itertools.product(range(cm.shape[0]), range(cm.shape[1])):\n",
    "        plt.text(j, i, cm[i, j],\n",
    "                 horizontalalignment=\"center\",\n",
    "                 color=\"white\" if cm[i, j] > thresh else \"black\")\n",
    "\n",
    "    plt.tight_layout()\n",
    "    plt.ylabel('Wahre Klasse')\n",
    "    plt.xlabel('Vorhergesagte Klasse')"
   ]
  },
  {
   "cell_type": "code",
   "execution_count": null,
   "id": "55bac0a6-b3b1-4be0-be29-1637cc0cf777",
   "metadata": {},
   "outputs": [],
   "source": [
    "confusion_mtx = sklearn.metrics.confusion_matrix(test_labels.argmax(axis=1), predict.round().argmax(axis=1))\n",
    "plot_confusion_matrix(confusion_mtx, classes = range(10))"
   ]
  },
  {
   "cell_type": "markdown",
   "id": "da37ba12",
   "metadata": {},
   "source": [
    "### Fehleranalyse"
   ]
  },
  {
   "cell_type": "code",
   "execution_count": null,
   "id": "4ffd58e8",
   "metadata": {},
   "outputs": [],
   "source": [
    "# Finde die Indizes, bei denen die vorhergesagten Werte nicht mit den Labels übereinstimmen\n",
    "np.where(np.not_equal(np.argmax(predict, axis=1), np.argmax(test_labels, axis=1)))"
   ]
  },
  {
   "cell_type": "code",
   "execution_count": null,
   "id": "59f51c9f",
   "metadata": {},
   "outputs": [],
   "source": [
    "index = 18\n",
    "\n",
    "label = ('0', '1', '2', '3', '4', '5', '6', '7', '8', '9')\n",
    "\n",
    "f = plt.figure(figsize=(10,4))\n",
    "ax1 = f.add_subplot(121)\n",
    "ax2 = f.add_subplot(122)\n",
    "\n",
    "ax1.bar(label, predict[index], align='center')\n",
    "ax1.set_ylabel('Wahrscheinlichkeit')\n",
    "ax1.set_title(\"Vorhersage: %d, Label: %d\" % (predict[index].argmax(), test_labels[index].argmax()));\n",
    "\n",
    "ax2.imshow(test_images[index].reshape(28,28), cmap=plt.get_cmap('gray'));"
   ]
  },
  {
   "cell_type": "markdown",
   "id": "589ebacd",
   "metadata": {},
   "source": [
    "## Portierung auf Mikrocontroller"
   ]
  },
  {
   "cell_type": "markdown",
   "id": "7fd58e7d",
   "metadata": {},
   "source": [
    "#### Hilfsfunktionen\n",
    "\n",
    "- Funktion `get_file_size()` ermittelt die Dateigröße\n",
    "- Funktion `convert_bytes()` konvertiert Bytes in KB und MB"
   ]
  },
  {
   "cell_type": "code",
   "execution_count": null,
   "id": "ccd80a0b",
   "metadata": {},
   "outputs": [],
   "source": [
    "import os\n",
    "import h5py\n",
    "import sys"
   ]
  },
  {
   "cell_type": "code",
   "execution_count": null,
   "id": "0ed83cf3",
   "metadata": {},
   "outputs": [],
   "source": [
    "def get_file_size(file_path):\n",
    "  size = os.path.getsize(file_path)\n",
    "  return size\n",
    "\n",
    "def convert_bytes(size, unit=None):\n",
    "  if unit == \"KB\":\n",
    "    return print('Dateigröße: ' + str(round(size / 1024, 3)) + ' Kilobytes')\n",
    "  elif unit == \"MB\":\n",
    "    return print('Dateigröße: ' + str(round(size / (1024 * 1024), 3)) + ' Megabytes')\n",
    "  else:\n",
    "    return print('Dateigröße: ' + str(size) + ' bytes')"
   ]
  },
  {
   "cell_type": "markdown",
   "id": "44479a39",
   "metadata": {},
   "source": [
    "### Speichern des Keras-Modells"
   ]
  },
  {
   "cell_type": "code",
   "execution_count": null,
   "id": "a6cb6ef8",
   "metadata": {},
   "outputs": [],
   "source": [
    "# Keras-Modell speichern im H5-Format\n",
    "\n",
    "KERAS_MODEL_FILENAME = 'tf_mnist.keras'\n",
    "model.save(KERAS_MODEL_FILENAME)"
   ]
  },
  {
   "cell_type": "code",
   "execution_count": null,
   "id": "ab06dc3a",
   "metadata": {},
   "outputs": [],
   "source": [
    "# Größe des Modells bestimmen\n",
    "convert_bytes(get_file_size(KERAS_MODEL_FILENAME), \"MB\")\n",
    "\n",
    "# Speichern der Modellgröße\n",
    "KERAS_MODEL_SIZE = get_file_size(KERAS_MODEL_FILENAME)"
   ]
  },
  {
   "cell_type": "markdown",
   "id": "16f9c907",
   "metadata": {},
   "source": [
    "### Konvertierung in TensorFlow lite-Modell **ohne** Quantisierung"
   ]
  },
  {
   "cell_type": "code",
   "execution_count": null,
   "id": "ebb01561",
   "metadata": {},
   "outputs": [],
   "source": [
    "converter = tf.lite.TFLiteConverter.from_keras_model(model)\n",
    "\n",
    "tflite_model = converter.convert()\n",
    "open('tf_mnist.tflite', 'wb').write(tflite_model);"
   ]
  },
  {
   "cell_type": "markdown",
   "id": "78ef0077",
   "metadata": {},
   "source": [
    "#### Analyse des TensorFlow lite-Modells\n",
    "\n",
    "- Ausgabe: html-Seite (mit Browser öffnen)"
   ]
  },
  {
   "cell_type": "code",
   "execution_count": null,
   "id": "080bb240",
   "metadata": {},
   "outputs": [],
   "source": [
    "!python -m tensorflow.lite.tools.visualize tf_mnist.tflite visualized_model.html"
   ]
  },
  {
   "cell_type": "markdown",
   "id": "dee5197d",
   "metadata": {},
   "source": [
    "... oder mittels"
   ]
  },
  {
   "cell_type": "code",
   "execution_count": null,
   "id": "272e3dbe",
   "metadata": {},
   "outputs": [],
   "source": [
    "tf.lite.experimental.Analyzer.analyze(model_content=tflite_model, gpu_compatibility=False)"
   ]
  },
  {
   "cell_type": "markdown",
   "id": "55cc0162",
   "metadata": {},
   "source": [
    "#### Dateigröße des TensorFlow lite-Modells?"
   ]
  },
  {
   "cell_type": "code",
   "execution_count": null,
   "id": "153680a6",
   "metadata": {},
   "outputs": [],
   "source": [
    "convert_bytes(get_file_size('tf_mnist.tflite'), \"KB\")"
   ]
  },
  {
   "cell_type": "markdown",
   "id": "87ec876c",
   "metadata": {},
   "source": [
    "### Konvertierung in TensorFlow lite-Modell **mit** Quantisierung"
   ]
  },
  {
   "cell_type": "code",
   "execution_count": null,
   "id": "9625653e",
   "metadata": {},
   "outputs": [],
   "source": [
    "converter = tf.lite.TFLiteConverter.from_keras_model(model)\n",
    "\n",
    "converter.optimizations = [tf.lite.Optimize.DEFAULT]\n",
    "\n",
    "tflite_model_quant = converter.convert()\n",
    "open('tf_mnist_quantized.tflite', 'wb').write(tflite_model_quant);"
   ]
  },
  {
   "cell_type": "markdown",
   "id": "9b9d8481",
   "metadata": {},
   "source": [
    "#### Dateigröße des quantisierten TensorFlow lite-Modells?"
   ]
  },
  {
   "cell_type": "code",
   "execution_count": null,
   "id": "4d9299b3",
   "metadata": {},
   "outputs": [],
   "source": [
    "convert_bytes(get_file_size('tf_mnist_quantized.tflite'), \"KB\")"
   ]
  },
  {
   "cell_type": "markdown",
   "id": "a7bb2fad",
   "metadata": {},
   "source": [
    "### Weitere Optimierung"
   ]
  },
  {
   "cell_type": "code",
   "execution_count": null,
   "id": "50113380",
   "metadata": {},
   "outputs": [],
   "source": [
    "converter.representative_dataset = representative_dataset\n",
    "\n",
    "converter.target_spec.supported_ops = [tf.lite.OpsSet.TFLITE_BUILTINS_INT8]\n",
    "\n",
    "converter.inference_input_type  = tf.uint8\n",
    "converter.inference_output_type = tf.uint8\n",
    "\n",
    "tflite_model_fully_quant = converter.convert()"
   ]
  }
 ],
 "metadata": {
  "kernelspec": {
   "display_name": "embeddedml",
   "language": "python",
   "name": "python3"
  },
  "language_info": {
   "codemirror_mode": {
    "name": "ipython",
    "version": 3
   },
   "file_extension": ".py",
   "mimetype": "text/x-python",
   "name": "python",
   "nbconvert_exporter": "python",
   "pygments_lexer": "ipython3",
   "version": "3.11.12"
  }
 },
 "nbformat": 4,
 "nbformat_minor": 5
}
