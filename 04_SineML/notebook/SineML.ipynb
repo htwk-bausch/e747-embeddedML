{
 "cells": [
  {
   "cell_type": "markdown",
   "metadata": {},
   "source": [
    "# Sinusfunktion mit neuronalem Netz"
   ]
  },
  {
   "cell_type": "code",
   "execution_count": null,
   "metadata": {},
   "outputs": [],
   "source": [
    "import numpy as np\n",
    "import matplotlib.pyplot as plt\n",
    "import tensorflow as tf\n",
    "import math\n",
    "\n",
    "%matplotlib inline\n",
    "%config InlineBackend.figure_format = 'retina'\n",
    "\n",
    "!python --version\n",
    "print(\"NumPy: \" + np.__version__)\n",
    "print(\"Keras: \" + tf.keras.__version__)\n",
    "print(\"TensorFlow: \" + tf.__version__)\n",
    "\n",
    "print(\"Num GPUs Available: \", len(tf.config.list_physical_devices('GPU')))"
   ]
  },
  {
   "cell_type": "code",
   "execution_count": null,
   "metadata": {},
   "outputs": [],
   "source": [
    "nsamples   = 1000    # Anzahl Stichproben\n",
    "val_ratio  = 0.2     # Prozentsatz der Stichprobe für Validierung\n",
    "test_ratio = 0.2     # Prozentsatz der Stichprobe für Test\n",
    "\n",
    "# Erzeugung einer zufälligen Stichprobe\n",
    "np.random.seed(1234)\n",
    "x_values = np.random.uniform(low=0, high=(2 * math.pi), size=nsamples)\n",
    "plt.plot(x_values, '.')"
   ]
  },
  {
   "cell_type": "code",
   "execution_count": null,
   "metadata": {},
   "outputs": [],
   "source": [
    "# anhand Stichprobe werden verrauschte Sinuswerte berechnet\n",
    "y_values = np.sin(x_values) + (0.1 * np.random.randn(x_values.shape[0]))\n",
    "plt.plot(x_values, y_values, '.')"
   ]
  },
  {
   "cell_type": "code",
   "execution_count": null,
   "metadata": {},
   "outputs": [],
   "source": [
    "# Aufteilung in Trainings-, Validierungs- und Testdatensatz\n",
    "val_split  = int(val_ratio * nsamples)\n",
    "test_split = int(val_split + (test_ratio * nsamples))\n",
    "\n",
    "x_val, x_test, x_train = np.split(x_values, [val_split, test_split])\n",
    "y_val, y_test, y_train = np.split(y_values, [val_split, test_split])\n",
    "\n",
    "# Test, ob Aufteilung der Samples korrekt ist\n",
    "assert(x_train.size + x_val.size + x_test.size) == nsamples"
   ]
  },
  {
   "cell_type": "code",
   "execution_count": null,
   "metadata": {},
   "outputs": [],
   "source": [
    "# Plot the data in each partition in different colors:\n",
    "plt.plot(x_train, y_train, 'b.', label=\"Train\")\n",
    "plt.plot(x_test, y_test, 'r.', label=\"Test\")\n",
    "plt.plot(x_val, y_val, 'y.', label=\"Validate\")\n",
    "plt.legend()\n",
    "plt.show()"
   ]
  },
  {
   "cell_type": "code",
   "execution_count": null,
   "metadata": {},
   "outputs": [],
   "source": [
    "# Modellentwurf\n",
    "model = tf.keras.Sequential()\n",
    "\n",
    "model.add(tf.keras.layers.Input(shape=(1,)))\n",
    "model.add(tf.keras.layers.Dense(16, activation='relu'))\n",
    "model.add(tf.keras.layers.Dense(16, activation='relu'))\n",
    "model.add(tf.keras.layers.Dense(1))\n",
    "\n",
    "model.summary()"
   ]
  },
  {
   "cell_type": "code",
   "execution_count": null,
   "metadata": {},
   "outputs": [],
   "source": [
    "# Optimierer, Verlustfunktion und Metriken\n",
    "model.compile(loss='mse', optimizer='rmsprop', metrics=['mae'])"
   ]
  },
  {
   "cell_type": "code",
   "execution_count": null,
   "metadata": {},
   "outputs": [],
   "source": [
    "# Training des Modells\n",
    "history = model.fit(x_train, y_train, epochs=500, batch_size=100, verbose=2, validation_data=(x_val, y_val))"
   ]
  },
  {
   "cell_type": "code",
   "execution_count": null,
   "metadata": {},
   "outputs": [],
   "source": [
    "# Trainingsverlauf grafisch darstellen\n",
    "epochs = range(1, len(history.history['val_loss']) + 1)\n",
    "\n",
    "plt.figure(figsize=(8,7))\n",
    "plt.plot(epochs, history.history['val_loss'])\n",
    "plt.xlabel('Epoche')\n",
    "plt.ylabel('Fehler')\n",
    "plt.grid(True)"
   ]
  },
  {
   "cell_type": "code",
   "execution_count": null,
   "metadata": {},
   "outputs": [],
   "source": [
    "# Vergleich zwischen Vorhersagen und tatsächliche Werten\n",
    "predictions = model.predict(x_test)\n",
    "\n",
    "plt.clf()\n",
    "plt.title(\"Vergleich der Ergebnisse\")\n",
    "plt.plot(x_test, y_test, 'b.', label='Actual')\n",
    "plt.plot(x_test, predictions, 'r.', label='Prediction')\n",
    "plt.legend()"
   ]
  },
  {
   "cell_type": "code",
   "execution_count": null,
   "metadata": {},
   "outputs": [],
   "source": [
    "# Speichern des Keras-Models\n",
    "KERAS_MODEL_FILENAME = 'sine_model.h5'\n",
    "model.save(KERAS_MODEL_FILENAME)"
   ]
  },
  {
   "cell_type": "markdown",
   "metadata": {},
   "source": [
    "### 2. Konvertierung für TFLite-Micro"
   ]
  },
  {
   "cell_type": "code",
   "execution_count": null,
   "metadata": {},
   "outputs": [],
   "source": [
    "# Quantisierung und Optimierung für Microcontroller\n",
    "\n",
    "converter = tf.lite.TFLiteConverter.from_keras_model(model)\n",
    "converter.optimazations = [tf.lite.Optimize.DEFAULT]\n",
    "tflite_model = converter.convert()\n",
    "\n",
    "TFLITE_MODEL_FILENAME = \"sine_model.tflite\"\n",
    "open(TFLITE_MODEL_FILENAME, \"wb\").write(tflite_model);"
   ]
  },
  {
   "cell_type": "markdown",
   "metadata": {},
   "source": [
    "### 2.1 Manuelle Konvertierung des tflite-Modells in Header-Datei"
   ]
  },
  {
   "cell_type": "code",
   "execution_count": null,
   "metadata": {},
   "outputs": [],
   "source": [
    "!echo \"const unsigned char model[] = {\"  > sine_model.h\n",
    "!cat sine_model.tflite | xxd -i         >> sine_model.h\n",
    "!echo \"};\"                              >> sine_model.h"
   ]
  }
 ],
 "metadata": {
  "kernelspec": {
   "display_name": "embeddedml",
   "language": "python",
   "name": "python3"
  },
  "language_info": {
   "codemirror_mode": {
    "name": "ipython",
    "version": 3
   },
   "file_extension": ".py",
   "mimetype": "text/x-python",
   "name": "python",
   "nbconvert_exporter": "python",
   "pygments_lexer": "ipython3",
   "version": "3.11.12"
  }
 },
 "nbformat": 4,
 "nbformat_minor": 2
}
