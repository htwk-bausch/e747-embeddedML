{
 "cells": [
  {
   "cell_type": "markdown",
   "id": "f1bae772-afe7-47e8-9910-0d01d29ef61f",
   "metadata": {},
   "source": [
    "# 2.2 Lineare Regression + Bias\n",
    "\n",
    "### Beispiel: Konvertierung von Grad Celsius in Grad Fahrenheit"
   ]
  },
  {
   "cell_type": "code",
   "execution_count": null,
   "id": "7920c5e8-4c34-4352-bdc7-5d24bb635c82",
   "metadata": {},
   "outputs": [],
   "source": [
    "# python -m pip install scikit-learn\n",
    "import sklearn"
   ]
  },
  {
   "cell_type": "code",
   "execution_count": null,
   "id": "654e3c8f-c886-4e64-be04-f9bab18c1e13",
   "metadata": {},
   "outputs": [],
   "source": [
    "# Daten\n",
    "# x: Grad Celsius\n",
    "# y: Grad Fahrenheit\n",
    "\n",
    "x = [[-10], [0], [20]]\n",
    "y = [[14], [32], [68]]"
   ]
  },
  {
   "cell_type": "code",
   "execution_count": null,
   "id": "9946361f-44da-4da5-91a1-df8ea48a6af3",
   "metadata": {},
   "outputs": [],
   "source": [
    "# fit_intercept=true => Verwendung des Bias-Neurons\n",
    "model = sklearn.linear_model.LinearRegression(fit_intercept=True)\n",
    "\n",
    "# Training\n",
    "model.fit(x, y)"
   ]
  },
  {
   "cell_type": "code",
   "execution_count": null,
   "id": "aec02efc-5fe8-4d3e-97b4-18c451ffb56c",
   "metadata": {},
   "outputs": [],
   "source": [
    "print(model.coef_)\n",
    "print(model.intercept_)"
   ]
  },
  {
   "cell_type": "code",
   "execution_count": null,
   "id": "e46ae17c-67a7-43f5-a135-fe93fe21428b",
   "metadata": {},
   "outputs": [],
   "source": [
    "# x1 * 1.8 + 32"
   ]
  }
 ],
 "metadata": {
  "kernelspec": {
   "display_name": "embeddedml2025",
   "language": "python",
   "name": "python3"
  },
  "language_info": {
   "codemirror_mode": {
    "name": "ipython",
    "version": 3
   },
   "file_extension": ".py",
   "mimetype": "text/x-python",
   "name": "python",
   "nbconvert_exporter": "python",
   "pygments_lexer": "ipython3",
   "version": "3.9.22"
  }
 },
 "nbformat": 4,
 "nbformat_minor": 5
}
