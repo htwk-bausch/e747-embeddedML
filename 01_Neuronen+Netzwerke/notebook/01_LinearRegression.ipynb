{
 "cells": [
  {
   "cell_type": "markdown",
   "id": "96a7a86d-bcc8-4786-98f6-7f7329c0bbc7",
   "metadata": {},
   "source": [
    "# 2.1 Lineare Regression\n",
    "\n",
    "### Beispiel: Konvertierung von Meilen in Kilometer"
   ]
  },
  {
   "cell_type": "code",
   "execution_count": null,
   "id": "3399ed4a-1713-4546-8819-82c6dc2d39a1",
   "metadata": {},
   "outputs": [],
   "source": [
    "# python -m pip install scikit-learn\n",
    "import sklearn"
   ]
  },
  {
   "cell_type": "code",
   "execution_count": null,
   "id": "0b724690-c015-49b1-9676-7e9e220ead57",
   "metadata": {},
   "outputs": [],
   "source": [
    "# Daten: x => km\n",
    "# Antworten: y => miles\n",
    "\n",
    "x = [[10], [15], [60]]\n",
    "y = [[5.3], [10.3], [37.6]]"
   ]
  },
  {
   "cell_type": "code",
   "execution_count": null,
   "id": "b1d5724b-9091-4c26-85bf-cc1fd7aeb4da",
   "metadata": {},
   "outputs": [],
   "source": [
    "model = sklearn.linear_model.LinearRegression(fit_intercept=True)\n",
    "model.fit(x, y)"
   ]
  },
  {
   "cell_type": "code",
   "execution_count": null,
   "id": "2987c1b3-cb5d-4f22-bb46-4463b097f1f6",
   "metadata": {},
   "outputs": [],
   "source": [
    "# Koeffizienten anzeigen\n",
    "print(model.coef_)\n",
    "print(model.intercept_)"
   ]
  },
  {
   "cell_type": "code",
   "execution_count": null,
   "id": "76e583ec-2196-4024-9026-f97fb19b6696",
   "metadata": {},
   "outputs": [],
   "source": [
    "# Unbekannte Werte mit model.predict() schätzen\n",
    "model.predict([[120], [130]])"
   ]
  }
 ],
 "metadata": {
  "kernelspec": {
   "display_name": "embeddedml",
   "language": "python",
   "name": "python3"
  },
  "language_info": {
   "codemirror_mode": {
    "name": "ipython",
    "version": 3
   },
   "file_extension": ".py",
   "mimetype": "text/x-python",
   "name": "python",
   "nbconvert_exporter": "python",
   "pygments_lexer": "ipython3",
   "version": "3.11.12"
  }
 },
 "nbformat": 4,
 "nbformat_minor": 5
}
