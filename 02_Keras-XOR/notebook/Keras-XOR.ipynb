{
 "cells": [
  {
   "cell_type": "markdown",
   "id": "8047fb5e-6082-4dc1-9af2-15d66b01396a",
   "metadata": {},
   "source": [
    "# Multilayer-Perceptron mit Keras\n",
    "\n",
    "## Beispiel: XOR-Funktion"
   ]
  },
  {
   "cell_type": "code",
   "execution_count": null,
   "id": "cd9330de-bd61-44b4-b14b-13aa5bc4cb80",
   "metadata": {},
   "outputs": [],
   "source": [
    "import tensorflow as tf\n",
    "import numpy as np\n",
    "import matplotlib.pyplot as plt\n",
    "\n",
    "%matplotlib inline\n",
    "%config InlineBackend.figure_format = 'retina'"
   ]
  },
  {
   "cell_type": "code",
   "execution_count": null,
   "id": "30c0993e-4e86-4e60-9d9a-3d7d92182ad2",
   "metadata": {},
   "outputs": [],
   "source": [
    "print(\"TensorFlow version: \" + tf.__version__)\n",
    "print(\"Keras version: \" + tf.keras.__version__)"
   ]
  },
  {
   "cell_type": "code",
   "execution_count": null,
   "id": "9eb8e01e-ed95-4ef4-8e19-fe68b6ac8edc",
   "metadata": {},
   "outputs": [],
   "source": [
    "# Hardwareunterstützung?\n",
    "tf.config.list_logical_devices()\n",
    "#tf.config.list_physical_devices()"
   ]
  },
  {
   "cell_type": "markdown",
   "id": "d0e5e0d2-72b9-4743-9dc8-3806dd1d4b73",
   "metadata": {},
   "source": [
    "### Trainingsdatensatz"
   ]
  },
  {
   "cell_type": "code",
   "execution_count": null,
   "id": "1a10b3e5-932d-4086-af50-3f1aa327bccc",
   "metadata": {},
   "outputs": [],
   "source": [
    "# the four different states of the XOR gate\n",
    "x = np.array([[0,0],[0,1],[1,0],[1,1]], \"float32\")\n",
    "y = np.array([[0],[1],[1],[0]], \"float32\")"
   ]
  },
  {
   "cell_type": "markdown",
   "id": "305b5158-c849-4726-8d25-9cf8874f6a32",
   "metadata": {},
   "source": [
    "### 1. Erstellung eines Modells"
   ]
  },
  {
   "cell_type": "code",
   "execution_count": null,
   "id": "14347679-38db-451b-8d2c-88ab21819d9b",
   "metadata": {},
   "outputs": [],
   "source": [
    "model = tf.keras.Sequential()\n",
    "model.add(tf.keras.layers.Input(shape=[2]))\n",
    "model.add(tf.keras.layers.Dense(50, activation='relu'))\n",
    "model.add(tf.keras.layers.Dense(20, activation='relu'))\n",
    "model.add(tf.keras.layers.Dense(1, activation='sigmoid'))"
   ]
  },
  {
   "cell_type": "markdown",
   "id": "2329687c-3069-4a99-8671-30de08074ab7",
   "metadata": {},
   "source": [
    "#### Modelleigenschaften anzeigen"
   ]
  },
  {
   "cell_type": "code",
   "execution_count": null,
   "id": "797cf2fa-e098-4c33-b45f-99d17165566e",
   "metadata": {},
   "outputs": [],
   "source": [
    "model.summary()"
   ]
  },
  {
   "cell_type": "markdown",
   "id": "f69f506a-2d40-424d-af0d-287844e2d094",
   "metadata": {},
   "source": [
    "### 2. Auswahl der Hyperparameter"
   ]
  },
  {
   "cell_type": "code",
   "execution_count": null,
   "id": "c908a41f-6bbd-450d-8483-6baa07bee930",
   "metadata": {},
   "outputs": [],
   "source": [
    "model.compile(loss='mean_squared_error', optimizer='adam', metrics=['binary_accuracy'])"
   ]
  },
  {
   "cell_type": "markdown",
   "id": "e04effe6-20d6-4206-ba3d-e701e7fa7b58",
   "metadata": {},
   "source": [
    "### 3. Training des Modells"
   ]
  },
  {
   "cell_type": "code",
   "execution_count": null,
   "id": "40ef5c5a-e510-43c2-afa1-e7c1b3137383",
   "metadata": {},
   "outputs": [],
   "source": [
    "model.fit(x, y, epochs=150, verbose=3)"
   ]
  },
  {
   "cell_type": "markdown",
   "id": "a88c896b-b626-4b45-a895-c8ea6b0ed55a",
   "metadata": {},
   "source": [
    "### 4. Evaluation des Modells"
   ]
  },
  {
   "cell_type": "code",
   "execution_count": null,
   "id": "f9a0a9d4-df32-466a-a457-944719cbcbfb",
   "metadata": {},
   "outputs": [],
   "source": [
    "scores = model.evaluate(x, y)\n",
    "print(\"%s: %.2f%%\" % (model.metrics_names[1], scores[1]*100))"
   ]
  },
  {
   "cell_type": "markdown",
   "id": "5486510e-ec4c-4551-89be-0b93d8e72a0a",
   "metadata": {},
   "source": [
    "### 5. Test des Modells"
   ]
  },
  {
   "cell_type": "code",
   "execution_count": null,
   "id": "419c1661-640f-411c-b334-fdd44cb0858c",
   "metadata": {},
   "outputs": [],
   "source": [
    "print(model.predict(x).round())"
   ]
  }
 ],
 "metadata": {
  "kernelspec": {
   "display_name": "embeddedml",
   "language": "python",
   "name": "python3"
  },
  "language_info": {
   "codemirror_mode": {
    "name": "ipython",
    "version": 3
   },
   "file_extension": ".py",
   "mimetype": "text/x-python",
   "name": "python",
   "nbconvert_exporter": "python",
   "pygments_lexer": "ipython3",
   "version": "3.11.12"
  }
 },
 "nbformat": 4,
 "nbformat_minor": 5
}
